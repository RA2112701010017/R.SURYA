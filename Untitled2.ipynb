{
  "nbformat": 4,
  "nbformat_minor": 0,
  "metadata": {
    "colab": {
      "name": "Untitled2.ipynb",
      "provenance": [],
      "collapsed_sections": [],
      "mount_file_id": "1wM-1V2d3JmrdgDLdrpHDO9_LjTP2oVJK",
      "authorship_tag": "ABX9TyNNk7+ZSVoI+uczNHDgZVNP",
      "include_colab_link": true
    },
    "kernelspec": {
      "name": "python3",
      "display_name": "Python 3"
    },
    "language_info": {
      "name": "python"
    }
  },
  "cells": [
    {
      "cell_type": "markdown",
      "metadata": {
        "id": "view-in-github",
        "colab_type": "text"
      },
      "source": [
        "<a href=\"https://colab.research.google.com/github/RA2112701010017/R.SURYA/blob/main/Untitled2.ipynb\" target=\"_parent\"><img src=\"https://colab.research.google.com/assets/colab-badge.svg\" alt=\"Open In Colab\"/></a>"
      ]
    },
    {
      "cell_type": "code",
      "execution_count": null,
      "metadata": {
        "colab": {
          "base_uri": "https://localhost:8080/"
        },
        "id": "Wfg1HyybtgkL",
        "outputId": "ad83471d-92bf-4dab-a5cb-dc5a96f54652"
      },
      "outputs": [
        {
          "output_type": "stream",
          "name": "stdout",
          "text": [
            "Looking in indexes: https://pypi.org/simple, https://us-python.pkg.dev/colab-wheels/public/simple/\n",
            "Requirement already satisfied: spacy in /usr/local/lib/python3.7/dist-packages (3.4.1)\n",
            "Requirement already satisfied: spacy-loggers<2.0.0,>=1.0.0 in /usr/local/lib/python3.7/dist-packages (from spacy) (1.0.3)\n",
            "Requirement already satisfied: wasabi<1.1.0,>=0.9.1 in /usr/local/lib/python3.7/dist-packages (from spacy) (0.10.1)\n",
            "Requirement already satisfied: packaging>=20.0 in /usr/local/lib/python3.7/dist-packages (from spacy) (21.3)\n",
            "Requirement already satisfied: pathy>=0.3.5 in /usr/local/lib/python3.7/dist-packages (from spacy) (0.6.2)\n",
            "Requirement already satisfied: murmurhash<1.1.0,>=0.28.0 in /usr/local/lib/python3.7/dist-packages (from spacy) (1.0.8)\n",
            "Requirement already satisfied: requests<3.0.0,>=2.13.0 in /usr/local/lib/python3.7/dist-packages (from spacy) (2.23.0)\n",
            "Requirement already satisfied: cymem<2.1.0,>=2.0.2 in /usr/local/lib/python3.7/dist-packages (from spacy) (2.0.6)\n",
            "Requirement already satisfied: catalogue<2.1.0,>=2.0.6 in /usr/local/lib/python3.7/dist-packages (from spacy) (2.0.8)\n",
            "Requirement already satisfied: spacy-legacy<3.1.0,>=3.0.9 in /usr/local/lib/python3.7/dist-packages (from spacy) (3.0.10)\n",
            "Requirement already satisfied: typer<0.5.0,>=0.3.0 in /usr/local/lib/python3.7/dist-packages (from spacy) (0.4.2)\n",
            "Requirement already satisfied: langcodes<4.0.0,>=3.2.0 in /usr/local/lib/python3.7/dist-packages (from spacy) (3.3.0)\n",
            "Requirement already satisfied: tqdm<5.0.0,>=4.38.0 in /usr/local/lib/python3.7/dist-packages (from spacy) (4.64.0)\n",
            "Requirement already satisfied: setuptools in /usr/local/lib/python3.7/dist-packages (from spacy) (57.4.0)\n",
            "Requirement already satisfied: jinja2 in /usr/local/lib/python3.7/dist-packages (from spacy) (2.11.3)\n",
            "Requirement already satisfied: preshed<3.1.0,>=3.0.2 in /usr/local/lib/python3.7/dist-packages (from spacy) (3.0.7)\n",
            "Requirement already satisfied: thinc<8.2.0,>=8.1.0 in /usr/local/lib/python3.7/dist-packages (from spacy) (8.1.0)\n",
            "Requirement already satisfied: numpy>=1.15.0 in /usr/local/lib/python3.7/dist-packages (from spacy) (1.21.6)\n",
            "Requirement already satisfied: srsly<3.0.0,>=2.4.3 in /usr/local/lib/python3.7/dist-packages (from spacy) (2.4.4)\n",
            "Requirement already satisfied: pydantic!=1.8,!=1.8.1,<1.10.0,>=1.7.4 in /usr/local/lib/python3.7/dist-packages (from spacy) (1.9.2)\n",
            "Requirement already satisfied: typing-extensions<4.2.0,>=3.7.4 in /usr/local/lib/python3.7/dist-packages (from spacy) (4.1.1)\n",
            "Requirement already satisfied: zipp>=0.5 in /usr/local/lib/python3.7/dist-packages (from catalogue<2.1.0,>=2.0.6->spacy) (3.8.1)\n",
            "Requirement already satisfied: pyparsing!=3.0.5,>=2.0.2 in /usr/local/lib/python3.7/dist-packages (from packaging>=20.0->spacy) (3.0.9)\n",
            "Requirement already satisfied: smart-open<6.0.0,>=5.2.1 in /usr/local/lib/python3.7/dist-packages (from pathy>=0.3.5->spacy) (5.2.1)\n",
            "Requirement already satisfied: chardet<4,>=3.0.2 in /usr/local/lib/python3.7/dist-packages (from requests<3.0.0,>=2.13.0->spacy) (3.0.4)\n",
            "Requirement already satisfied: idna<3,>=2.5 in /usr/local/lib/python3.7/dist-packages (from requests<3.0.0,>=2.13.0->spacy) (2.10)\n",
            "Requirement already satisfied: urllib3!=1.25.0,!=1.25.1,<1.26,>=1.21.1 in /usr/local/lib/python3.7/dist-packages (from requests<3.0.0,>=2.13.0->spacy) (1.24.3)\n",
            "Requirement already satisfied: certifi>=2017.4.17 in /usr/local/lib/python3.7/dist-packages (from requests<3.0.0,>=2.13.0->spacy) (2022.6.15)\n",
            "Requirement already satisfied: blis<0.8.0,>=0.7.8 in /usr/local/lib/python3.7/dist-packages (from thinc<8.2.0,>=8.1.0->spacy) (0.7.8)\n",
            "Requirement already satisfied: click<9.0.0,>=7.1.1 in /usr/local/lib/python3.7/dist-packages (from typer<0.5.0,>=0.3.0->spacy) (7.1.2)\n",
            "Requirement already satisfied: MarkupSafe>=0.23 in /usr/local/lib/python3.7/dist-packages (from jinja2->spacy) (2.0.1)\n"
          ]
        }
      ],
      "source": [
        "pip install -U spacy"
      ]
    },
    {
      "cell_type": "markdown",
      "source": [],
      "metadata": {
        "id": "VOTNz4_jvxbA"
      }
    },
    {
      "cell_type": "code",
      "source": [
        "\n",
        "pip install textblob\n"
      ],
      "metadata": {
        "colab": {
          "base_uri": "https://localhost:8080/"
        },
        "id": "SWmQhkFNvyOE",
        "outputId": "5d482777-172c-4225-fb48-1c88f701326f"
      },
      "execution_count": null,
      "outputs": [
        {
          "output_type": "stream",
          "name": "stdout",
          "text": [
            "Looking in indexes: https://pypi.org/simple, https://us-python.pkg.dev/colab-wheels/public/simple/\n",
            "Requirement already satisfied: textblob in /usr/local/lib/python3.7/dist-packages (0.15.3)\n",
            "Requirement already satisfied: nltk>=3.1 in /usr/local/lib/python3.7/dist-packages (from textblob) (3.7)\n",
            "Requirement already satisfied: click in /usr/local/lib/python3.7/dist-packages (from nltk>=3.1->textblob) (7.1.2)\n",
            "Requirement already satisfied: regex>=2021.8.3 in /usr/local/lib/python3.7/dist-packages (from nltk>=3.1->textblob) (2022.6.2)\n",
            "Requirement already satisfied: joblib in /usr/local/lib/python3.7/dist-packages (from nltk>=3.1->textblob) (1.1.0)\n",
            "Requirement already satisfied: tqdm in /usr/local/lib/python3.7/dist-packages (from nltk>=3.1->textblob) (4.64.0)\n"
          ]
        }
      ]
    },
    {
      "cell_type": "markdown",
      "source": [],
      "metadata": {
        "id": "zrTnoS3Zv5Zy"
      }
    },
    {
      "cell_type": "code",
      "source": [
        "# installing NLTK\n"
      ],
      "metadata": {
        "id": "eh9ICw8qv5wh"
      },
      "execution_count": null,
      "outputs": []
    },
    {
      "cell_type": "code",
      "source": [
        "pip install nltk"
      ],
      "metadata": {
        "colab": {
          "base_uri": "https://localhost:8080/"
        },
        "id": "5eFBwaF2wC8x",
        "outputId": "17d04631-160b-4567-ae7d-fe517880d2d5"
      },
      "execution_count": null,
      "outputs": [
        {
          "output_type": "stream",
          "name": "stdout",
          "text": [
            "Looking in indexes: https://pypi.org/simple, https://us-python.pkg.dev/colab-wheels/public/simple/\n",
            "Requirement already satisfied: nltk in /usr/local/lib/python3.7/dist-packages (3.7)\n",
            "Requirement already satisfied: regex>=2021.8.3 in /usr/local/lib/python3.7/dist-packages (from nltk) (2022.6.2)\n",
            "Requirement already satisfied: joblib in /usr/local/lib/python3.7/dist-packages (from nltk) (1.1.0)\n",
            "Requirement already satisfied: click in /usr/local/lib/python3.7/dist-packages (from nltk) (7.1.2)\n",
            "Requirement already satisfied: tqdm in /usr/local/lib/python3.7/dist-packages (from nltk) (4.64.0)\n"
          ]
        }
      ]
    },
    {
      "cell_type": "code",
      "source": [
        "import nltk\n",
        "nltk.download()\n"
      ],
      "metadata": {
        "colab": {
          "base_uri": "https://localhost:8080/"
        },
        "id": "1KmfjwWiwI6r",
        "outputId": "df170e2b-7be8-4362-fdf6-32c5578c1404"
      },
      "execution_count": null,
      "outputs": [
        {
          "name": "stdout",
          "output_type": "stream",
          "text": [
            "NLTK Downloader\n",
            "---------------------------------------------------------------------------\n",
            "    d) Download   l) List    u) Update   c) Config   h) Help   q) Quit\n",
            "---------------------------------------------------------------------------\n",
            "Downloader> d\n",
            "\n",
            "Download which package (l=list; x=cancel)?\n",
            "  Identifier> l\n",
            "Packages:\n",
            "  [ ] abc................. Australian Broadcasting Commission 2006\n",
            "  [ ] alpino.............. Alpino Dutch Treebank\n",
            "  [ ] averaged_perceptron_tagger Averaged Perceptron Tagger\n",
            "  [ ] averaged_perceptron_tagger_ru Averaged Perceptron Tagger (Russian)\n",
            "  [ ] basque_grammars..... Grammars for Basque\n",
            "  [ ] biocreative_ppi..... BioCreAtIvE (Critical Assessment of Information\n",
            "                           Extraction Systems in Biology)\n",
            "  [ ] bllip_wsj_no_aux.... BLLIP Parser: WSJ Model\n",
            "  [ ] book_grammars....... Grammars from NLTK Book\n",
            "  [ ] brown............... Brown Corpus\n",
            "  [ ] brown_tei........... Brown Corpus (TEI XML Version)\n",
            "  [ ] cess_cat............ CESS-CAT Treebank\n",
            "  [ ] cess_esp............ CESS-ESP Treebank\n",
            "  [ ] chat80.............. Chat-80 Data Files\n",
            "  [ ] city_database....... City Database\n",
            "  [ ] cmudict............. The Carnegie Mellon Pronouncing Dictionary (0.6)\n",
            "  [ ] comparative_sentences Comparative Sentence Dataset\n",
            "  [ ] comtrans............ ComTrans Corpus Sample\n",
            "  [ ] conll2000........... CONLL 2000 Chunking Corpus\n",
            "  [ ] conll2002........... CONLL 2002 Named Entity Recognition Corpus\n",
            "Hit Enter to continue: \n",
            "  [ ] conll2007........... Dependency Treebanks from CoNLL 2007 (Catalan\n",
            "                           and Basque Subset)\n",
            "  [ ] crubadan............ Crubadan Corpus\n",
            "  [ ] dependency_treebank. Dependency Parsed Treebank\n",
            "  [ ] dolch............... Dolch Word List\n",
            "  [ ] europarl_raw........ Sample European Parliament Proceedings Parallel\n",
            "                           Corpus\n",
            "  [ ] extended_omw........ Extended Open Multilingual WordNet\n",
            "  [ ] floresta............ Portuguese Treebank\n",
            "  [ ] framenet_v15........ FrameNet 1.5\n",
            "  [ ] framenet_v17........ FrameNet 1.7\n",
            "  [ ] gazetteers.......... Gazeteer Lists\n",
            "  [ ] genesis............. Genesis Corpus\n",
            "  [ ] gutenberg........... Project Gutenberg Selections\n",
            "  [ ] ieer................ NIST IE-ER DATA SAMPLE\n",
            "  [ ] inaugural........... C-Span Inaugural Address Corpus\n",
            "  [ ] indian.............. Indian Language POS-Tagged Corpus\n",
            "  [ ] jeita............... JEITA Public Morphologically Tagged Corpus (in\n",
            "                           ChaSen format)\n",
            "  [ ] kimmo............... PC-KIMMO Data Files\n",
            "  [ ] knbc................ KNB Corpus (Annotated blog corpus)\n",
            "Hit Enter to continue: \n",
            "  [ ] large_grammars...... Large context-free and feature-based grammars\n",
            "                           for parser comparison\n",
            "  [ ] lin_thesaurus....... Lin's Dependency Thesaurus\n",
            "  [ ] mac_morpho.......... MAC-MORPHO: Brazilian Portuguese news text with\n",
            "                           part-of-speech tags\n",
            "  [ ] machado............. Machado de Assis -- Obra Completa\n",
            "  [ ] masc_tagged......... MASC Tagged Corpus\n",
            "  [ ] maxent_ne_chunker... ACE Named Entity Chunker (Maximum entropy)\n",
            "  [ ] maxent_treebank_pos_tagger Treebank Part of Speech Tagger (Maximum entropy)\n",
            "  [ ] moses_sample........ Moses Sample Models\n",
            "  [ ] movie_reviews....... Sentiment Polarity Dataset Version 2.0\n",
            "  [ ] mte_teip5........... MULTEXT-East 1984 annotated corpus 4.0\n",
            "  [ ] mwa_ppdb............ The monolingual word aligner (Sultan et al.\n",
            "                           2015) subset of the Paraphrase Database.\n",
            "  [ ] names............... Names Corpus, Version 1.3 (1994-03-29)\n",
            "  [ ] nombank.1.0......... NomBank Corpus 1.0\n",
            "  [ ] nonbreaking_prefixes Non-Breaking Prefixes (Moses Decoder)\n",
            "  [ ] nps_chat............ NPS Chat\n",
            "  [ ] omw-1.4............. Open Multilingual Wordnet\n",
            "  [ ] omw................. Open Multilingual Wordnet\n",
            "  [ ] opinion_lexicon..... Opinion Lexicon\n",
            "Hit Enter to continue: \n",
            "  [ ] panlex_swadesh...... PanLex Swadesh Corpora\n",
            "  [ ] paradigms........... Paradigm Corpus\n",
            "  [ ] pe08................ Cross-Framework and Cross-Domain Parser\n",
            "                           Evaluation Shared Task\n",
            "  [ ] perluniprops........ perluniprops: Index of Unicode Version 7.0.0\n",
            "                           character properties in Perl\n",
            "  [ ] pil................. The Patient Information Leaflet (PIL) Corpus\n",
            "  [ ] pl196x.............. Polish language of the XX century sixties\n",
            "  [ ] porter_test......... Porter Stemmer Test Files\n",
            "  [ ] ppattach............ Prepositional Phrase Attachment Corpus\n",
            "  [ ] problem_reports..... Problem Report Corpus\n",
            "  [ ] product_reviews_1... Product Reviews (5 Products)\n",
            "  [ ] product_reviews_2... Product Reviews (9 Products)\n",
            "  [ ] propbank............ Proposition Bank Corpus 1.0\n",
            "  [ ] pros_cons........... Pros and Cons\n",
            "  [ ] ptb................. Penn Treebank\n",
            "  [ ] punkt............... Punkt Tokenizer Models\n",
            "  [ ] qc.................. Experimental Data for Question Classification\n",
            "  [ ] reuters............. The Reuters-21578 benchmark corpus, ApteMod\n",
            "                           version\n",
            "  [ ] rslp................ RSLP Stemmer (Removedor de Sufixos da Lingua\n",
            "                           Portuguesa)\n",
            "Hit Enter to continue: \n",
            "  [ ] rte................. PASCAL RTE Challenges 1, 2, and 3\n",
            "  [ ] sample_grammars..... Sample Grammars\n",
            "  [ ] semcor.............. SemCor 3.0\n",
            "  [ ] senseval............ SENSEVAL 2 Corpus: Sense Tagged Text\n",
            "  [ ] sentence_polarity... Sentence Polarity Dataset v1.0\n",
            "  [ ] sentiwordnet........ SentiWordNet\n",
            "  [ ] shakespeare......... Shakespeare XML Corpus Sample\n",
            "  [ ] sinica_treebank..... Sinica Treebank Corpus Sample\n",
            "  [ ] smultron............ SMULTRON Corpus Sample\n",
            "  [ ] snowball_data....... Snowball Data\n",
            "  [ ] spanish_grammars.... Grammars for Spanish\n",
            "  [ ] state_union......... C-Span State of the Union Address Corpus\n",
            "  [ ] stopwords........... Stopwords Corpus\n",
            "  [ ] subjectivity........ Subjectivity Dataset v1.0\n",
            "  [ ] swadesh............. Swadesh Wordlists\n",
            "  [ ] switchboard......... Switchboard Corpus Sample\n",
            "  [ ] tagsets............. Help on Tagsets\n",
            "  [ ] timit............... TIMIT Corpus Sample\n",
            "  [ ] toolbox............. Toolbox Sample Files\n",
            "  [ ] treebank............ Penn Treebank Sample\n",
            "  [ ] twitter_samples..... Twitter Samples\n",
            "Hit Enter to continue: \n",
            "  [ ] udhr2............... Universal Declaration of Human Rights Corpus\n",
            "                           (Unicode Version)\n",
            "  [ ] udhr................ Universal Declaration of Human Rights Corpus\n",
            "  [ ] unicode_samples..... Unicode Samples\n",
            "  [ ] universal_tagset.... Mappings to the Universal Part-of-Speech Tagset\n",
            "  [ ] universal_treebanks_v20 Universal Treebanks Version 2.0\n",
            "  [ ] vader_lexicon....... VADER Sentiment Lexicon\n",
            "  [ ] verbnet3............ VerbNet Lexicon, Version 3.3\n",
            "  [ ] verbnet............. VerbNet Lexicon, Version 2.1\n",
            "  [ ] webtext............. Web Text Corpus\n",
            "  [ ] wmt15_eval.......... Evaluation data from WMT15\n",
            "  [ ] word2vec_sample..... Word2Vec Sample\n",
            "  [ ] wordnet2021......... Open English Wordnet 2021\n",
            "  [ ] wordnet31........... Wordnet 3.1\n",
            "  [ ] wordnet............. WordNet\n",
            "  [ ] wordnet_ic.......... WordNet-InfoContent\n",
            "  [ ] words............... Word Lists\n",
            "  [ ] ycoe................ York-Toronto-Helsinki Parsed Corpus of Old\n",
            "                           English Prose\n",
            "\n",
            "Collections:\n",
            "  [ ] all-corpora......... All the corpora\n",
            "Hit Enter to continue: \n",
            "  [ ] all-nltk............ All packages available on nltk_data gh-pages\n",
            "                           branch\n",
            "  [ ] all................. All packages\n",
            "  [ ] book................ Everything used in the NLTK Book\n",
            "  [ ] popular............. Popular packages\n",
            "  [ ] tests............... Packages for running tests\n",
            "  [ ] third-party......... Third-party data packages\n",
            "\n",
            "([*] marks installed packages)\n",
            "\n",
            "Download which package (l=list; x=cancel)?\n",
            "  Identifier> x\n",
            "\n",
            "---------------------------------------------------------------------------\n",
            "    d) Download   l) List    u) Update   c) Config   h) Help   q) Quit\n",
            "---------------------------------------------------------------------------\n",
            "Downloader> q\n"
          ]
        },
        {
          "output_type": "execute_result",
          "data": {
            "text/plain": [
              "True"
            ]
          },
          "metadata": {},
          "execution_count": 11
        }
      ]
    },
    {
      "cell_type": "markdown",
      "source": [],
      "metadata": {
        "id": "RuA3GRRNwMge"
      }
    },
    {
      "cell_type": "code",
      "source": [
        "import spacy\n",
        "\n",
        "nlp = spacy.load(\"en_core_web_sm\")\n",
        "doc = nlp(\"Apple is looking at buying U.K. startup for $1 billion\")\n",
        "for token in doc:\n",
        "    print(token.text)"
      ],
      "metadata": {
        "colab": {
          "base_uri": "https://localhost:8080/"
        },
        "id": "fDuG_EXiwQ9W",
        "outputId": "898c390e-942c-4afd-a150-42521e3875ba"
      },
      "execution_count": null,
      "outputs": [
        {
          "output_type": "stream",
          "name": "stdout",
          "text": [
            "Apple\n",
            "is\n",
            "looking\n",
            "at\n",
            "buying\n",
            "U.K.\n",
            "startup\n",
            "for\n",
            "$\n",
            "1\n",
            "billion\n"
          ]
        }
      ]
    },
    {
      "cell_type": "code",
      "source": [
        "from textblob import TextBlob\n",
        "zen = TextBlob(\"Data is a new fuel. \"\n",
        "               \"Explicit is better than implicit. \"\n",
        "               \"Simple is better than complex. \")"
      ],
      "metadata": {
        "id": "SuBLsypN06X-"
      },
      "execution_count": null,
      "outputs": []
    },
    {
      "cell_type": "code",
      "source": [],
      "metadata": {
        "id": "GQR4HZqjVVkv"
      },
      "execution_count": null,
      "outputs": []
    },
    {
      "cell_type": "code",
      "source": [
        "from nltk.corpus import stopwords\n",
        "from nltk.tokenize import word_tokenize\n",
        "\n",
        "example_sent = \"This is a sample sentence, showing off the stop words filtration.\"\n",
        "\n",
        "stop_words = set(stopwords.words('english'))\n",
        "\n",
        "word_tokens = word_tokenize(example_sent)\n",
        "\n",
        "filtered_sentence = [w for w in word_tokens if not w in stop_words]\n",
        "\n",
        "filtered_sentence = []\n",
        "\n",
        "for w in word_tokens:\n",
        "    if w not in stop_words:\n",
        "        filtered_sentence.append(w)\n",
        "\n",
        "print(word_tokens)\n",
        "print(filtered_sentence)"
      ],
      "metadata": {
        "colab": {
          "base_uri": "https://localhost:8080/"
        },
        "id": "G2WwKNv424XN",
        "outputId": "8d1f2261-0dda-451d-cd87-d4882692d76c"
      },
      "execution_count": null,
      "outputs": [
        {
          "output_type": "stream",
          "name": "stdout",
          "text": [
            "['This', 'is', 'a', 'sample', 'sentence', ',', 'showing', 'off', 'the', 'stop', 'words', 'filtration', '.']\n",
            "['This', 'sample', 'sentence', ',', 'showing', 'stop', 'words', 'filtration', '.']\n"
          ]
        }
      ]
    },
    {
      "cell_type": "code",
      "source": [
        "import nltk\n",
        "nltk.download('punkt')"
      ],
      "metadata": {
        "colab": {
          "base_uri": "https://localhost:8080/"
        },
        "id": "jrzFn85H37V_",
        "outputId": "903bb9ef-af67-4867-96fb-8a6740c613a8"
      },
      "execution_count": null,
      "outputs": [
        {
          "output_type": "stream",
          "name": "stderr",
          "text": [
            "[nltk_data] Downloading package punkt to /root/nltk_data...\n",
            "[nltk_data]   Unzipping tokenizers/punkt.zip.\n"
          ]
        },
        {
          "output_type": "execute_result",
          "data": {
            "text/plain": [
              "True"
            ]
          },
          "metadata": {},
          "execution_count": 24
        }
      ]
    },
    {
      "cell_type": "code",
      "source": [
        "import nltk\n",
        "nltk.download('stopwords')\n",
        "\n",
        "\n"
      ],
      "metadata": {
        "colab": {
          "base_uri": "https://localhost:8080/"
        },
        "id": "GzvfUHDM3auW",
        "outputId": "ce50ff2a-7486-40dc-8aef-acafd0f88802"
      },
      "execution_count": null,
      "outputs": [
        {
          "output_type": "stream",
          "name": "stderr",
          "text": [
            "[nltk_data] Downloading package stopwords to /root/nltk_data...\n",
            "[nltk_data]   Unzipping corpora/stopwords.zip.\n"
          ]
        },
        {
          "output_type": "execute_result",
          "data": {
            "text/plain": [
              "True"
            ]
          },
          "metadata": {},
          "execution_count": 20
        }
      ]
    },
    {
      "cell_type": "code",
      "source": [
        "from nltk.stem import PorterStemmer\n",
        "from nltk.tokenize import sent_tokenize, word_tokenize\n",
        "\n",
        "ps = PorterStemmer()\n",
        "example_words = [\"helmet\",\"gloves\",\"bat\",\"ball\",\"pythonly\"]\n",
        "for w in example_words:\n",
        "    print(ps.stem(w))"
      ],
      "metadata": {
        "colab": {
          "base_uri": "https://localhost:8080/"
        },
        "id": "5bBsMevUQjP5",
        "outputId": "197be80b-1970-46c5-88df-e33b251ebdf7"
      },
      "execution_count": 6,
      "outputs": [
        {
          "output_type": "stream",
          "name": "stdout",
          "text": [
            "helmet\n",
            "glove\n",
            "bat\n",
            "ball\n",
            "pythonli\n"
          ]
        }
      ]
    },
    {
      "cell_type": "code",
      "source": [
        "import nltk\n",
        "nltk.download()"
      ],
      "metadata": {
        "colab": {
          "base_uri": "https://localhost:8080/"
        },
        "id": "e74kbuhlR20-",
        "outputId": "7cd9420f-86c6-4fc5-cf8c-2821e4e86540"
      },
      "execution_count": 10,
      "outputs": [
        {
          "name": "stdout",
          "output_type": "stream",
          "text": [
            "NLTK Downloader\n",
            "---------------------------------------------------------------------------\n",
            "    d) Download   l) List    u) Update   c) Config   h) Help   q) Quit\n",
            "---------------------------------------------------------------------------\n",
            "Downloader> d\n",
            "\n",
            "Download which package (l=list; x=cancel)?\n",
            "  Identifier> punkt\n"
          ]
        },
        {
          "output_type": "stream",
          "name": "stderr",
          "text": [
            "    Downloading package punkt to /root/nltk_data...\n",
            "      Unzipping tokenizers/punkt.zip.\n"
          ]
        },
        {
          "name": "stdout",
          "output_type": "stream",
          "text": [
            "\n",
            "---------------------------------------------------------------------------\n",
            "    d) Download   l) List    u) Update   c) Config   h) Help   q) Quit\n",
            "---------------------------------------------------------------------------\n",
            "Downloader> q\n"
          ]
        },
        {
          "output_type": "execute_result",
          "data": {
            "text/plain": [
              "True"
            ]
          },
          "metadata": {},
          "execution_count": 10
        }
      ]
    },
    {
      "cell_type": "code",
      "source": [
        "import nltk\n",
        "nltk.download('omw-1.4')\n",
        "  "
      ],
      "metadata": {
        "colab": {
          "base_uri": "https://localhost:8080/"
        },
        "id": "MXdlJpmPTFur",
        "outputId": "e31b05a1-078d-4070-ccc8-ee452772c7d1"
      },
      "execution_count": 13,
      "outputs": [
        {
          "output_type": "stream",
          "name": "stderr",
          "text": [
            "[nltk_data] Downloading package omw-1.4 to /root/nltk_data...\n"
          ]
        },
        {
          "output_type": "execute_result",
          "data": {
            "text/plain": [
              "True"
            ]
          },
          "metadata": {},
          "execution_count": 13
        }
      ]
    },
    {
      "cell_type": "code",
      "source": [
        "from nltk.stem import wordnet \n",
        "from nltk.tokenize import word_tokenize \n",
        "lemma = wordnet.WordNetLemmatizer()\n",
        "nltk.download('wordnet')\n",
        "# lemmatize string \n",
        "def lemmatize_word(text): \n",
        "    word_tokens = word_tokenize(text) \n",
        "    # provide context i.e. part-of-speech(pos)\n",
        "    lemmas = [lemma.lemmatize(word, pos ='v') for word in word_tokens] \n",
        "    return lemmas \n",
        "  \n",
        "text = 'Data is the new revolution in the World, in a day one individual would generate terabytes of data.'\n",
        "lemmatize_word(text)\n"
      ],
      "metadata": {
        "colab": {
          "base_uri": "https://localhost:8080/"
        },
        "id": "HfjFqh6zTL9N",
        "outputId": "d8d87045-3ab3-43e8-ec77-6155aae32c65"
      },
      "execution_count": 14,
      "outputs": [
        {
          "output_type": "stream",
          "name": "stderr",
          "text": [
            "[nltk_data] Downloading package wordnet to /root/nltk_data...\n",
            "[nltk_data]   Package wordnet is already up-to-date!\n"
          ]
        },
        {
          "output_type": "execute_result",
          "data": {
            "text/plain": [
              "['Data',\n",
              " 'be',\n",
              " 'the',\n",
              " 'new',\n",
              " 'revolution',\n",
              " 'in',\n",
              " 'the',\n",
              " 'World',\n",
              " ',',\n",
              " 'in',\n",
              " 'a',\n",
              " 'day',\n",
              " 'one',\n",
              " 'individual',\n",
              " 'would',\n",
              " 'generate',\n",
              " 'terabytes',\n",
              " 'of',\n",
              " 'data',\n",
              " '.']"
            ]
          },
          "metadata": {},
          "execution_count": 14
        }
      ]
    },
    {
      "cell_type": "code",
      "source": [
        "# importing tokenize library\n",
        "from nltk.tokenize import word_tokenize \n",
        "from nltk import pos_tag \n",
        "nltk.download('averaged_perceptron_tagger')\n",
        "  \n",
        "# convert text into word_tokens with their tags \n",
        "def pos_tagg(text): \n",
        "    word_tokens = word_tokenize(text) \n",
        "    return pos_tag(word_tokens) \n",
        "  \n",
        "pos_tagg('Are you afraid of something?')"
      ],
      "metadata": {
        "colab": {
          "base_uri": "https://localhost:8080/"
        },
        "id": "O1qrWi7STbmo",
        "outputId": "7a465457-2c75-4916-ebe9-ce3035022fdc"
      },
      "execution_count": 15,
      "outputs": [
        {
          "output_type": "stream",
          "name": "stderr",
          "text": [
            "[nltk_data] Downloading package averaged_perceptron_tagger to\n",
            "[nltk_data]     /root/nltk_data...\n",
            "[nltk_data]   Unzipping taggers/averaged_perceptron_tagger.zip.\n"
          ]
        },
        {
          "output_type": "execute_result",
          "data": {
            "text/plain": [
              "[('Are', 'NNP'),\n",
              " ('you', 'PRP'),\n",
              " ('afraid', 'IN'),\n",
              " ('of', 'IN'),\n",
              " ('something', 'NN'),\n",
              " ('?', '.')]"
            ]
          },
          "metadata": {},
          "execution_count": 15
        }
      ]
    },
    {
      "cell_type": "code",
      "source": [
        "pip install textblob"
      ],
      "metadata": {
        "colab": {
          "base_uri": "https://localhost:8080/"
        },
        "id": "ur15bNFsU_TG",
        "outputId": "26e3f7a1-a6e6-4744-e8d6-4d52cfd473fa"
      },
      "execution_count": 20,
      "outputs": [
        {
          "output_type": "stream",
          "name": "stdout",
          "text": [
            "Looking in indexes: https://pypi.org/simple, https://us-python.pkg.dev/colab-wheels/public/simple/\n",
            "Requirement already satisfied: textblob in /usr/local/lib/python3.7/dist-packages (0.15.3)\n",
            "Requirement already satisfied: nltk>=3.1 in /usr/local/lib/python3.7/dist-packages (from textblob) (3.7)\n",
            "Requirement already satisfied: regex>=2021.8.3 in /usr/local/lib/python3.7/dist-packages (from nltk>=3.1->textblob) (2022.6.2)\n",
            "Requirement already satisfied: joblib in /usr/local/lib/python3.7/dist-packages (from nltk>=3.1->textblob) (1.1.0)\n",
            "Requirement already satisfied: tqdm in /usr/local/lib/python3.7/dist-packages (from nltk>=3.1->textblob) (4.64.0)\n",
            "Requirement already satisfied: click in /usr/local/lib/python3.7/dist-packages (from nltk>=3.1->textblob) (7.1.2)\n"
          ]
        }
      ]
    },
    {
      "cell_type": "code",
      "source": [
        "from textblob import TextBlob"
      ],
      "metadata": {
        "id": "zEbCBf7GVWtX"
      },
      "execution_count": 22,
      "outputs": []
    },
    {
      "cell_type": "code",
      "source": [
        "blob = TextBlob(\"Now is better than never.\")\n",
        "blob.ngrams(n=2)"
      ],
      "metadata": {
        "colab": {
          "base_uri": "https://localhost:8080/"
        },
        "id": "KvptFYY_VaCJ",
        "outputId": "91f52843-c541-41df-9899-5bd80d94a223"
      },
      "execution_count": 23,
      "outputs": [
        {
          "output_type": "execute_result",
          "data": {
            "text/plain": [
              "[WordList(['Now', 'is']),\n",
              " WordList(['is', 'better']),\n",
              " WordList(['better', 'than']),\n",
              " WordList(['than', 'never'])]"
            ]
          },
          "metadata": {},
          "execution_count": 23
        }
      ]
    },
    {
      "cell_type": "code",
      "source": [
        "\n",
        "pip install speechRecognition"
      ],
      "metadata": {
        "colab": {
          "base_uri": "https://localhost:8080/"
        },
        "id": "O8KJEdFuVkgn",
        "outputId": "25b9c180-d18a-4ff6-f6a9-fa09b6b2ea24"
      },
      "execution_count": 24,
      "outputs": [
        {
          "output_type": "stream",
          "name": "stdout",
          "text": [
            "Looking in indexes: https://pypi.org/simple, https://us-python.pkg.dev/colab-wheels/public/simple/\n",
            "Collecting speechRecognition\n",
            "  Downloading SpeechRecognition-3.8.1-py2.py3-none-any.whl (32.8 MB)\n",
            "\u001b[K     |████████████████████████████████| 32.8 MB 195 kB/s \n",
            "\u001b[?25hInstalling collected packages: speechRecognition\n",
            "Successfully installed speechRecognition-3.8.1\n"
          ]
        }
      ]
    },
    {
      "cell_type": "code",
      "source": [
        "pip install gtts\n"
      ],
      "metadata": {
        "colab": {
          "base_uri": "https://localhost:8080/"
        },
        "id": "O3nCtW7nV0Co",
        "outputId": "6d5d5be3-3dcd-4682-acbc-a2e029273533"
      },
      "execution_count": 25,
      "outputs": [
        {
          "output_type": "stream",
          "name": "stdout",
          "text": [
            "Looking in indexes: https://pypi.org/simple, https://us-python.pkg.dev/colab-wheels/public/simple/\n",
            "Collecting gtts\n",
            "  Downloading gTTS-2.2.4-py3-none-any.whl (26 kB)\n",
            "Requirement already satisfied: click in /usr/local/lib/python3.7/dist-packages (from gtts) (7.1.2)\n",
            "Requirement already satisfied: six in /usr/local/lib/python3.7/dist-packages (from gtts) (1.15.0)\n",
            "Requirement already satisfied: requests in /usr/local/lib/python3.7/dist-packages (from gtts) (2.23.0)\n",
            "Requirement already satisfied: chardet<4,>=3.0.2 in /usr/local/lib/python3.7/dist-packages (from requests->gtts) (3.0.4)\n",
            "Requirement already satisfied: idna<3,>=2.5 in /usr/local/lib/python3.7/dist-packages (from requests->gtts) (2.10)\n",
            "Requirement already satisfied: urllib3!=1.25.0,!=1.25.1,<1.26,>=1.21.1 in /usr/local/lib/python3.7/dist-packages (from requests->gtts) (1.24.3)\n",
            "Requirement already satisfied: certifi>=2017.4.17 in /usr/local/lib/python3.7/dist-packages (from requests->gtts) (2022.6.15)\n",
            "Installing collected packages: gtts\n",
            "Successfully installed gtts-2.2.4\n"
          ]
        }
      ]
    },
    {
      "cell_type": "code",
      "source": [
        "from gtts import gTTS\n",
        "text_to_say=\"Hello!welcome to the class,how r u\"\n",
        "\n",
        "gTTS(text=text_to_say)\n",
        "\n",
        "language=\"en\"\n",
        "\n",
        "gtts_object=gTTS(text=text_to_say,lang=language)\n",
        "gtts_object.save(\"/content/drive/MyDrive/Colab Notebooks/Untitled0.ipynb.voice.wav\")"
      ],
      "metadata": {
        "id": "Dc565WSQV3Ib"
      },
      "execution_count": 33,
      "outputs": []
    },
    {
      "cell_type": "code",
      "source": [
        "from IPython.display import Audio\n",
        "Audio(\"/content/drive/MyDrive/Colab Notebooks/Untitled0.ipynb.voice.wav\")"
      ],
      "metadata": {
        "colab": {
          "base_uri": "https://localhost:8080/",
          "height": 75
        },
        "id": "R0zjflq1YtaW",
        "outputId": "13f465bb-8be0-4f7d-e791-d4dcc0471507"
      },
      "execution_count": 34,
      "outputs": [
        {
          "output_type": "execute_result",
          "data": {
            "text/plain": [
              "<IPython.lib.display.Audio object>"
            ],
            "text/html": [
              "\n",
              "                <audio  controls=\"controls\" >\n",
              "                    <source src=\"data:audio/x-wav;base64,//NExAARoZIcAEGKlAgdC7k+nSRho8wmYXK0CZRpJEeTj///20rUmYaktBMQGiQdFgQED4gUzOx//TY/0b7tRUUzCgOK/7SYEAgsZMDu7//0APm1JQDDuCt/rHaIlgDJ//NExAwSoTp0AGJMcJjkbxW2sCBIq0y9uF0gy7fLswtMmmzZB5OlHk0Icm07Ea6cREOmWnAsL1by9b6ibsEDMP3A8ENynnAfe3/+pQTH2K1ljlnWo190xAkFM5Am3gII//NExBQXoT6EAGJScIoMiiYrmgyKjKp1FboqGEhAoHhXKSByKjr1SdGtH+Vfc0vUHStt2pHh8g4YfAhwTjQwCAcCA1obefUETQZuUQhjAAnfVs9/y/Q+pQEM0VA2HggT//NExAgUaTacAEmMcMkaB3AQuyBMEB24WWiDJJDIQb6XJYwDxJEzhsfYn/+ff28a2ZTPfxBfILowTWkol2bYIToeMiyBgaDIjFBcs5DwIBL3Urf///9al9F2ZS1OMNT1//NExAkU4QakAM4QcAbjKwSQEnlmKIYcd+H423cyjh6T/LkVGb268vYhAjjhGBYY4kH0eixtFfNz1PXFkUgFQsLgg/9dmkHQuckyEiNcdNKexUW////+it93cQIgKkzG//NExAgSqTKoAMYicO++wi7CbNC1QmqkFrTxhXYY6/lNxtEeN6qo3iRqheMh+BDBpE8yZPkivME26/TR6b9Riy1zctOIA3D/+iZGjWIp/1W9f+4zEM0zj1uEARJ1QEKq//NExBAVqbagANZElLPjGIAfE72MyFUQCgpzYiYXFBJCvq0VbOTaSu98rFQGS4dpIjLefq5ay0fr/0KW6KayggIVBhQg53Z3//MrNOJd6d08z9Fapt1nhM3kOtlz8rxO//NExAwTaKKYAM6yTPfBJVGbyThzyAcGhmxJAUxTBllCFwRo1+Za2MxyzgRQhptvu/Nn7tNkeCx5QK1vV/LHlA0oShMCp/YwjK//////TYIwonzNYaygKgERABkcWYJO//NExBEWqJqEAN7yTIGBID8GCgKdndhqJGEkI0Gz1iwAyW1hlYhp9gLFauWDKHmx1lFQ0XGwLKxMGhQ6g5SdWRmcRMbYi1Z5YlLvro/X///6ZoWcFS1CduTXWMGMVMzT//NExAkT+OKEAOaOcKvsCJs62Jw4NKErKAs5aVDfVUHQUzaxUPIiver6NgCkE39VsyugG9S/M9uVy9TrPw+4RytT7Fkr//sUZut//7ELjy4uQcghopmff0R+0XWnO2aZ//NExAwUqJqMANbwTHHvqzM4YWHKhAZwBOnG17hgyuy7VFQkQKlugN5kKY9OOAnxFLdV3LZwSVO5OUz9lFLhc8MFKu40sun/77pBP//9KDi3y6yimcsYMBqoklViQJkM//NExAwUgUqkAM4ElLLIkWnSAdQNZ1K6CZ8EeSZnIm0lr75Q9GBEV2G9d6CRgQsSpS2loPJ+8af+/vXV+d+ToT7To1iByigRZ/UGf//////siCu5/9bQanela2jZkOXW//NExA0VsUqsAMYGlLKex10JAlkvEKDu1OuR0q0UVHEooZL2twim25Fyk+H0fugbvAEsxq0lfDHFL+f8p/aedmSuiEJCUxQkCkdugHWAMH6f/////9uix53CTj85+chm//NExAkUIT6wAMYicBsT1Q3Jl2Tgds9amTJNSKlnGgWnOUlWUpowfbQEdBaMA3yJplEipBEKSJp79TttT0VJ1JJm9zY6YKUM9W0DPYMV/d/T///+msMN3EXRkaOwHOth//NExAsUES6oAM5kcA9GBr1WAgr04D8anQuw2OpzNfIcY4//EUkWbolMigN1QGzLaKykTL5kV/X1ooe3nEGZE1J8Ppd+qtJeE6dtbv1qs///+qrGz+d44g4xapoaAOCP//NExA0U+TqoAM4acJCLcoHZHGb3OXL2HHVyZl7PihyeT/36R/i6QvEmal4CEB3pMgSRHRQomrr1r9F+ZecM3QpjuPVCn/QZTcteK0t362f///817z/khrk8s9hQpOAU//NExAwSiS6sAMYgcHCLcyocFrCd3HnYmraMBqZ4yhbawk/Um1Ewnj8XzUwGELKLqCjp03bQZLupfq1KU7VsdYWFG/7UsTZ79/6EqrH8zXwagr5dydAATIVUdWVABgLU//NExBQSsTasAM4acK+paRfZAZWK37wIBE6YdsMzLVrABZIoiMCxHiitMvmqLqWl/19bOjrSRRMC4aH1mP/CYq3//6K5zdAIJJdT0ql4UsDgyGmEBDtIHiYNkXvS6MgV//NExBwS4SqsAMYOcGGMUCxHPlDW0v0oy9L+1QuGgWhEIxAfY5z0Q5P7In9kR2QsYLRz//aK/+v////+mtfdaWH/mI2ooUBOxYyzoHEEabWGnKZgQ4MBWrDKqDMV2xFL//NExCMR+S6kAMZUcHRuZEjsmolWyhlwKiAVxWcgPZzt//6Tnnz6HDImMJTXf9rnf9ff5jgotNi6AIeM0J3EQDc2PFoOKQwLcoOtq5Bf9Aazlr7TEhkCgEIIAgUUpszp//NExC4Q0SagAM5EcPWyUOQKJO23/+yt61ZBww4L/4AChhWgrvgYnia1CONAZmGHJB1wPBmiEk9RmTUrDwE01KMFgdnMheQS2Wk8qP6msC16AWdA8a7f/rWz/TRpggCX//NExD0SASKUAM5KcPyi0f9f////9CmKzkXDgv2zTYpYHncDo6HUshx16hWWTAn5iQIOrOoAYABTZs6dphVwkGbCyNrsC1ojZqFf/fv3p09tdAwVDP5VIFO/qLBH//////NExEgSgSaEANaEcP1qdWNDoE10JpCYAVhI/NOEYg6YyLKNA4ANG6sjBRZ+3qEJZi0AkgcxgF+IyI2G9UWRWz//sC6P9Ixf97qP9f//+5BsVoUwJmOkBRC7GenIolDZ//NExFEQ4IKAAVpIAFAYnMgHDNR4VBQEWsnMTFBADoYoCHXbYEFAMFCJggEDegLGAIALjAUsWlolcOeQBSx9FEpkVTVZamMEFmhxBBanS3RRWy1pmSnzU+k7rWWElLWy//NExGAhceJsAZuYAAXja602Ugt0VHjJaXqWelu9BSBn3Nwo9l9sr7odUHX+Lhmr5cihRCMqDSIukskwJNTTYszHLLIAljM6a85TOlhmJTjAkJSAZB5QZ1pl/QrWJEiS//NExC0SqLpIAdgwAFv/qqqiRKTvKgqCoazo0NRKCoKneVBoOrBU7+Ig6gRUpQRUIbrzayJ51ieLOW4WNHHzHS2SZSSalNRmAEGiVpdYgPhxdSsepaRUexqBmROuKoLv//NExDURgJoMAGJSTHi5wqu3u0C7tZ5kVtf9DvupcFROBiTz5mVgEZMGAqAkKYCFBgIUucYwwEK+gKq2qqAqpBQFVKHhhKlAx5R0RA0Jb+ekhEJnrCVn63c78rf1eWf8//NExEISORHsADDGcLB0q6WKhpUCAQwUEDCBwiPLPMlYKGBggYQGFDBQwMEHCBwYqKioJ9YoLCwsLCoqKiooLCwsLCvioqKiosLCwsLioqz/////ULCzRYVFVUxBTUUz//NExEwRkJUEABDETC4xMDBVVVVVVVVVVVVVVVVVVVVVVVVVVVVVVVVVVVVVVVVVVVVVVVVVVVVVVVVVVVVVVVVVVVVVVVVVVVVVVVVVVVVVVVVVVVVVVVVVTEFNRTMu//NExFgAAANIAAAAADEwMFVVVVVVVVVVVVVVVVVVVVVVVVVVVVVVVVVVVVVVVVVVVVVVVVVVVVVVVVVVVVVVVVVVVVVVVVVVVVVVVVVVVVVVVVVVVVVVVVVVQmjBOgXW//NExKsAAANIAAAAAMnGaAuWQmhwnJ4znERwwLTVs0paCd53qdVd5+7PWZubm5uZubhkOMMORkZDjDDjGRjDiBhyNTGHEDDjGRkZEZGRkZEZWeRmRkZGQ44w5GRjDjjD//NExKwAAANIAAAAAKGRkY4zgmz/oMmdBoLEzKoLwxUcSRRhwHSbxNEYQdVDC8OwgIoGMPH4D8z/j/HeI/hn7gAAAHh7+v/////uYeHh4eYACIAGf4eH/+fvEQGAA//4//NExKwAAANIAAAAAAYeH//5v///oeAABB3+AADsx9UxigMYiBsaJqelKcjMOeRvUeCYY8oLGBgMPRNpRARXrvwe8zZlTyLGISycl9JGJZhUlh9SAFE9MiIyOZOxh6bE//NExP8aCnE0AEmGuCIfbu4iM++9PsuaWkQMCxeGCcHHQffE58MFwJBDggNveJ37dg6GDj/PrHGi4ne9oYQqQrAgNKxGAgImCSEnM7XmTgpGOYWGB4ghUKzSNgzOEIjk//NExOkVSFYEAHvGJTU1JBpBrHQQ1DBRfpL0LDgwRchujeuX4QxJYbi+KIpEmgACribvTCjUrY0ooWwvWUm397P6C/WSOoGY7F+3AAfvvB84AHLAEpge7Ynzf8xh8E/j//NExOYcSSo0ANYMcL2+pPHCPWz9XDZW+Hdc/5oEAAeHoyBQAIDGf1Pgvwx+PTMBACgjMBocz52jLolMIAIDA4WAxv8bMVTOkjOadqstpkvliTr5vvWnGw5b7V1CZb3O//NExMcg8SJUAO6MceYY18uV8YpL4UhaECz1UVW+Qc0FHafEJI8U9kQiVs1yFGCHQioWtin9i9I3sMQhZtZmmuWOeUSjO/Ld7YTiIRgImd69Mepxn4dVFIwqJU3SNwwm//NExJYiEaZUAOaGlQjAw3jwGGAwKmYENmjIKmGQLMZjRUAwaBpOGRN6YZSfvuddKrclYvsIJl52hPY6awkCy/C1HYvhj2nr5/9T9c/X4X+YXafPm8cKmPdMEA4dTnHk//NExGAh4uZoAO6KuCWrqd1PdFRkDg4ec4mfavO7KJ3cjdqPydld7dv6f9f/8+58TD5C+Uq7zW2iAQ1XvLbUBDJ4cOE09JbsoD3bciHK6JpFpm0Mye8XhOq2PQ5YgEFb//NExCsR+SagAN4acAuarjjHm+pBPoN1INqWn2TTqMTeGH/3jzYbE//R//5TEOIxY7p2jTxZncto6nqgZetjbkC64vjjEkvleNmvbN0KASQy7VbFfHvu0mb/+u//mn/9//NExDYRGTK0AMYecLdKfF6fNp5rvb/xOHxZKqLnLT+g1YKBaDUqT1BgsbkJyN7Fk1DAx40WINMGF2v1NN3EI0BgxPjdEIQQYF1RuG+7dDBRQdGGZsHl11nLyOvrVzKG//NExEQh4fqYANbSmKZt/u7as082mpX53qsLosKiULGBWXD5CFiUMZ1L97Os+RTt6fV0mIyl3C8fDdlcId9xbp7RMmPQxjzpv//+pVY9wnFaw5/4tyNtkgM/5EALI2zT//NExA8VuaasAMZElD5RKmBImmJmACG1o6swypCfLZRNX1KU+WpRi5Udp3pdezy3Vps8GysY79P/rZ+jsEDBjAxhaCHlMynmQ8IEQWaH5rHoGXaFUXbUWRvASgFTCYzi//NExAsO6JasAKZwTFHwefA87lTJ6mRKcBjQM908lEKAaF5qTLK7KZz3lgb5nGO/+m8AqAmk04qA2CIKu0qU71upEyRQ1HaakhUXkiHcCYCNygdQPhl0ARSBKAbzUrCM//NExCIScX6cAM0ElIDAmADpZItZjI0f6P9/ov///+qluug7UC4aC4FBYca3L/se93//96KJXP5m+4pwfZCz5m9KHQL7gqsQn7ljkuL6gFLxrZplyjWRRQYWfLIbZR////NExCsPEJaUAM4eTP4lcy/yphqRUC/6Syf//9NaqlKB5OxPRcDAlQQ74Eg4DdVkRcJqUhpsolOWu/jWl0RkwhAyoiRIgsGkSTS/+GvqO//6SQdEoaCrqf////qEQdxW//NExEEQMJpsAVlIACLUWeD21kwoplxnSj0lAiZDDhngjTbHfFQKB60WRZwB7jYC5tkT1kMLhwiAArAHojN1dwx8OnBsWShpVbZXjgL7kTIYRD7sv8WAvqdSBor/6qHW//NExFMfMyo4AZqYAJk+YGg4CPHeKXq2917VV7cjCIDMFkrkTUzf////v610zcnygRAnGlQ3Qk/hggqmivJnFSW4Ix1YlYPyIYkMISARRjHADAEAuw1EWHgWhQWYVS4N//NExCkZ0tKoAY9QAOg6ZGIUr3ESIkenvsQMeaYcccf+x/qdP9j9PqermHerqevdEShimn3M+c3/3v/7oYjHkh557/+TCgm8smLkardJ3mTdgu0EMTrY8+VJBAgIdkTN//NExBQSAR6oAdhIAJrVo/DbD4VZ1rNg4JH3Vrk4JlEfxsmMTvKqN//z2s3PP//YdiT//7R1lzBUWJ/hH///9uutY/thW8CwxITOVPVvQzP1cMdqf8TCpINEUuo/1HH5//NExB8SgN6kANZYcFNYZ5lKGGBaWSTHiwwJJ6t76QrrW+lOWgqCARCdbHBwDaO+jaJgk/+z/Sinq1I+zAdnm9vFmW6QA6ZEQMF8M+CgPCGYcHTqlVzRWueiEjlZ/4IS//NExCgT6X6QANYQldFfRbPlPXhd7L7s2/8PWvRBQuvFw7CwrXpHH76t/9f/13C6EEGDju2ObuR1jQiLQ21TNlVV7wQYGpCtyjwrsjDoaXn6+d5r/m3+a9LsbU54EOvn//NExCsRWOqUAN5ecHAZWKferwns2P29qcsigCesLeo5sOwIBf/9arkumXwJAs1WjO0GV0Sd6kkTE3wu889hIdAI4LaW2MDAgpq2bkRWncdZIkWJ5VAixPNpk6JLRgp1//NExDgSMUqMANxGlMOCL+L5FKp1xwAMZYJvb/gejbL6sOmFkJ51WZsJvo4Q4BCMvNSPRYVd6cnn8e+VYz2cVx/+GgFEqai8y8/uHe3Z2f5u4vAVMkPHB4YBmG8IjX+K//NExEIQiOqEAVswANV4SI4FQCvLNqw4IQYIVO8KdzJYSrjBlRQFwLIOb5KMmslx4mAwv07qYexfJhIDv/NFpp5JkElh5E8w/pqZC6YVARgjD3E/Lw4P/u3xwEoToXgq//NExFIhgyqcAY9oABwFAcn/+7XumpmC2BOAUABgCUHhGx2CXAthdI3///Zbvt5uXBwD1Cdi0UMILgloTseI5zcRIYQGgdGKhsn/////UqImvT/XMYGhyhShq0N/zLM7//NExB8SAg7AAcUQAblUxjhRBygJWotiluUhjKGFGCldkiXRBXnBT+yytzf/VPxNqO/pp3+N3h8eLCyVT+yWfRcOyG765wX5qABDeYDgyOS76l6T6fWiRAICmHf23S+s//NExCoRAaqsAMIElBOilcWaxe6p//rNUiiQER0KR1qeW6Gf///ox/V0QmQhDJoCZWZSEk27zac4JuF8sA+GnHhrrOqNjQzWzrMsQEiOELEBKGRTiSoDB48UMl0jAxQF//NExDkRCMqsANPScMM//3Cif/////+LqrXeNEOBGzulMnUYReiFygBQEjT+omzOBdbp4rZ1qRw7hnlGXcoXDaOMqEMDqlqxytrlcnqXdcDoTEyBwOnQqCv/5ZpH//////NExEcSqOagAM4YcP/Jt12lhprAgdBvItvFAKHMYHAQZz1DVYlIKXTcQdGfpcsatnm5brlzExp7QNsPiqCJoZfV2qwViIyo99ol//4aBAOcCuCAJBYaLFYYhiAbMGEx//NExE8PQLqAAVpgAACjA1PmDi7eLpmp8yMNWAJ1JZbSTC9w8DKPZeyADJhgQVQ/t93xjg2wV4Wwn/2txC47ycIAVS/b7bLyCF0c8eSLnC/1/0/ufLhGEEPGZFy2e1////NExGUiCypsAZuQAO35Fz6RACoZkDPkENFmv///9Ovy+bmhcMy0Xz5cOlciBDyJqpYo0zwyA2FjWN+F0AEym6DEpgnLgSwzplX58wgcIn9kPQaSLAcQvGt7mAabAjD0//NExC8eMc6gAZp4ABeKNEBc2fyZyPw4Ft5oCGaCicYWM5+L0rHzDu1SyNSncImL/19c7//OKbGP9/4z8/6/+tf/+87wxuIhhGuFmbkGTtEDHtjfxT+mx3ERgaTVqhLq//NExAkTUS6wAdh4ACumsuybiopMuaWPTZLLXTSStfBEpx5NqOLqOs/K7aorWJ+1K65nKGLtqz/fX+86pX++K5jxdyPX07Yyxlss/sLhkHCSKtfkqRb17Y8Lt6Jg+zfc//NExA4RiSawAMYecBlbVqXFO3G7XdLL7jgz31nVs6g23ATqes8JGWGaG9mxW2/uvzuucTelotaRH0KSHYKEv+8VA4hJVdyvMw7iY+WJbmkGyxkQWFS8FiIUTEnKpOVt//NExBoSSRKUAMvYcGp22nKs6bjmiQ6euPquKwBh+SE4Eh+lOqdnLfOs2lmtey1qzsVjQNTv/nYaCrq0Km8GhF0Vcl7mDoSQwtWXS5W1lt6VE0SwZJ5md7d5at7kdLCS//NExCMQ8bJsAMGElKyOORdtQMK/zPyly+rflLzf6t69QrNPCVBBTwV////+RjrzwGgphRIZqIX4iloBgpKVrbiMGypZdapshYOlhIFWjQy0AkWsdHtUNctVhh6k7q5x//NExDIQwEooAVsYADtehSxt6/+7d/LJ17v7073Ill5/m1YJSZy99ErYyzK5LCZS3V/txKiaAhURwIXHwRoFBQQm4s0OiALAaIX6GGOsQSOGhUTiUhcIgqQIxDGJOF0w//NExEIhkyqUAZiQADRvqPGBSNE1prSOE//NzdBCzmzIIKRV/0EEF9Zm+t6U3//UtO59aemxxBRsamyC3Uyv//3Uy0Jkany8eVr9NCZpGKbH6hYbMea+fBQ4Y6Obd+k5//NExA4QsKKoAcZIADxSLMCVYnEDRJaxnDowcPGMIj6zZ5ZzJhDT9DUGSSabbH70i8EFCYHhbR7WHa/4wkIDiOquCy6GqzxHIKrOoobdRlDBlQr0nqBoTESsHsCRF7mm//NExB4QqJ6kADjSTCRae6lRE9A0SiRVa71lrZB79ftPLYxLUTtFlz9eiNkHGhUSnkVQSXOwNQXUJGS9yIOcw4FyhavL4sqNuinm3BjD5gyDKR3mWesdFxcBUUNFMWY///NExC4REI6UAHvSTNMHDSh6CQmV6klEu686+jXJLv//92WVl0O4Q0jsV4N2faMCAM0Ri4ra36hUSHsJJIIijqcJL80l2OmeXEYzBDdVFi/AOCpMAMQEUUH5PjhDv8xu//NExDwSET6cAM5OcGPz/Pfj5NZQ5+unWlXDmrqbTP6k38wHdou6oQSdmv4y4CEE/f3bZSY0znpngOC02z9wUU6uXJhYSc//oL3J4Qbz9BuoB4z9C///wmHqnUJ9YsgG//NExEYQaaKwAMYElBubDuAR6W9WEcM8MpSCcNC3k3AEEYtd1SKNWcszp8E7NdcCODtiUunFDr5vG/zefX/pb/wHlAVUCB7/4mFmAjVVbUFsCyWxPBOAln+JsvbW7Wcs//NExFcRCQ64AG4ecBpw4Mgj6VaFUO1r8oXeyWzK0PThpMKfJGMIuS0aZxoxl+X8C1/Sm73xnWqYzXOKwsSbDLf/8JqQx+vhIo3giPjGjYL4PGDpDAGwIUNZIAFgDKpF//NExGUSeSa8AG4ecExSQD6E2PgcCZcHDAoCKAohEEPgGiwmERSVkJt53u29bv9au5ZusUOP3WefG//1VdfBRjN1z/DRjQCUHXM1F8VcBPgswBMLEO4QwScOk1B9kiW2//NExG4SiSa4AHvYcAyjnTygtA0GQMxQgjYdS0WlccEddy1oLza2/+465kc5RgNf/43uq5KeHdQQkjRabgs6m2p1urDYOIn1QvqLSmpE0ZhsupVyNOl0TUT5cHWjD+Vh//NExHYSASa4AHvYcEg4mKM7fbf0fY9t6zW/rj5tWWFnU2YmDK//4shCcAIi3BoG8xCxokvrJ88gAAAX7I1Fz2JvryO7NbDcEHZDWaw/ViQdoyGBsBpiHYBj59YutSte//NExIESgSawAMYecNmcdnqWzMt9mazEuSyqtdoDCfLRCypukEozl1Q+Bc0nHTlcWCzFxKio6ocYlbRHkVNOqocxUqmCxm456Wo+pghc1R4qNasVT//W413//uf////Q//NExIoRGSKoAIYYcYqltPWOS7ircxS00Rqf0RvkHcEGS0BBKFvZ1JeDn0cb3YcOYpAbANAVHWLSfw71/33M/86MzmsHxqf/5BbUo3f0Nr////vR7hJTIF7I7MwL0BBU//NExJgRYLKgAMYeTB11mn1VXacsZivmblSUK0ssJpxSAgkreTPkB1DqBcyIFER9v9lYoDIRS/9X5zOf+vFQijTUAucnpl8wfbu91r65dI4kSujkkpOe/3lji1HJV5bt//NExKUReSaYAMPQcJTzOfMyt+/7n7b20Tupsgt2vTpvbabtoWOmlbbNq1p1uvlV1fg7Z3pvrH6xa2uZ043Sr7HR8zc49y0HnmRHyl8wbovjfw8Kca5w8TnL5yfJ2NjO//NExLIQOLKYAMGSTEcUMX2ZSHiIgFuPTpwrrzYfDjYMANWr7u7L5/ZnZjBjcmmTKbguAknAjZr4DMThFZ19Nb1r2x64tn/ON6vTWvjPz85r96n3rGotfjWcXjVzEv4z//NExMQg8yKMAGGYvBtVomY0Hy73HvDfPqStisjS2atysypgPdwY6vVEAu+VCYEBSJBjP+EZD8o0YgFUOtVmWb5dUpEiQAqU////////////l/////ql/+2m7MlrNvn5//NExJMeQx6IAChevOtHY1TjjndWuhiEj1NMMMHiZKx48o1QMjAOwghGPGniWDwCY4JA2LA5GyUUv/T///8v/y////v6f/////b8+2ZOc6anJWOpVDG0PqROuealyKDp//NExG0RKyKgADhOvFIyLIpEIy4+OisUCgIQmB+JhHFLA9Fo8C0kHDzCAX//////1/4f//7L//////sn1dDrt1U452nUa70Qg1jUc+w9OVTzjWG7540EcSixoQisHw4J//NExHsRKxqgABBOvUJyJ4ERKcaDYHhgJCo4cB2KTZYHX/pM/9PWn/Q9zlpfb///ud//3r313///S9LtP7KjOyKaSQeNW7LPIlyy1UsqjVTCpAdJFIRFxGqJyQ6aaQNk//NExIkSMxqYAChOvciPDw+JJQdJVK0yKi9o9+Im7YbmjDlCd0hNJA/1aStTqumYtvEHlmqm7k3ekei6m4ONfdKu+Zp9ueld2Wvz8U027SbHTLa5V6T2y06cvWOSxtt3//NExJMSaxKUAUc4ATW29jkXQq4hiSpD7O/LVCVJxRe64tso1iOaxZgimbiGGg/DtNRX6picVc44rJMeTy0h/dO6ETqRJWVctQD4ebhf5KgV7cled4S6uPkEeGDFx2TU//NExJwhIyJ8AY9YAJQtw3mik1M/j2My8mPxcsfQUlRUZFonolonwAeoMkkvoqeCSiwALonpcL44i+plbrZWuZiBCXEmLJIkSIOFW6dav60ZgICHJJQn5iYlESYkkq1q//NExGohOqoQAY9oAFLp0//50fpdH5ZdGMiPYK0OSQCuXYhK2eLP1GAgIUaqX+zHQoCaqvPv/6loYCYxnUsxmQxjVCgIFDRYedEoKwag1KnSv6jynxL53iVbvDSgaAQd//NExDgRiP2IAcMQAKjxYOrBVZ1JUNiV3ywM1UxBTUUzLjEwMFVVVVVVVVVVVVVVVVVVVVVVVVVVVVVVVVVVVVVVVVVVVVVVVVVVVVVVVVVVVVVVVVVVVVVVMhDIQxAS//NExEQAAANIAAAAALFlmFZveDpiIR9+eWqFl7C0DQFb0w4CLZoLwe7DXIpNxvIAwO4gHA4HGOHBRlkECKHA4xznPnfzvOc7/+hGUhP5CfyE1OfO/Oc6B8XHDQfEYfrg//NExJcAAANIAAAAAPxA4o7+UOfUGCjqnAgqcSwA/HkNIll9Jfwu2Zdhxh8cQ6YuhGbGbNwxALATflknmPhcAQA3JjbMSDkDHLFLjPhy4YvANuJP+LkIIeZi4IBiA4o4//NExKwAAANIAAAAAIKDhELfxOZw0SLi2E/hkpXIU0KhFv+o0LhNk+UzdNMqJOkWxkCRNiZ//TQYwZBraiJmJEyQRLpVKqBmYp///3Qr0001d2WiaLdCcwH1K9a+91+L//NExP8Zid2cAVgoAG671Giw4Ud9FvV+r4DC7KZHX8bFIO5PcpzKLBEEE4QmxxwBq7ibTjUBsj8Epxi9gRBBZFalFMpSUEFltgDScTSXrJIMi/v9ZxDe7qSlkVzYuJUe//NExOskWxpYAZmYAcNhcqsozr5rid6SSiqE7jg62xZKOZcmEwtZioxY5LX34Wv3rtnbN+/lQ/bWTtbbLv24ejzfn9i3yVr9lBB9Z32vc80NIVei9ZQvFMlrlb+DDMoI//NExKwSKT6MAc8wAImH8hYOoZRZ9o707Oo+puYcooId0QOIEgKsc0KDmKUNeKNXrcdkQ+1dmiqDbtpGg21c/kXSNW6zxFe2ZfsB6gQ0fdkMEOtOKhVoYSssZ82XF4AY//NExLYSOaagADpMlf71iDATGtdxORV75ZzzL+qa889Q6JxVj1/+hv/qV3AK46fUoE4MrH/HQ5DydzgkugX7pLEbC2QCVb9Tb0oyOpAlmGRwymcDSySsRdqKT++RKvb///NExMARQSasADLMcO7b1ztWxT551bE/STnZmku2Hf/0KuoogQkT+ljPBY/T93UQRKOw7PXGRGOCeEosvq0os8ho/FLHgqhZR/simBhBpKl/fOGp/f2tbWc1rjW/XFM5//NExM4RQRawAHvWcIL2I/gIWZnmtx4lPJz4vhhGwYiZ40pxR4qzGHdHkeA4pyIsIMSeNGnDg8PwTeAJoyg0aB9MIFMN4DKq58yPlNDntuDSP84hPbU1a1s7xbEK+KvW//NExNwSiSawAJYwcBYl3CeVEojMLM84cJkTzttetK61ZyxphECmjEjy27seTRMRiRIDlEbTQSCMa4CbEpysNaKh0YHXqzksAMGEAw6l/HLcMz3/+q1N3/qV+VB3qbrk//NExOQRARq4AJYecUGHAUAQJ6H8pfQypW4/9NZSszleo8YwNGWLLEIvIodAoEctJCTFAsvIQSRggQA7K32NV+i5JsQC2kMWrNO4Nn//de////1f/8r9BD8V+rVcUDgF//NExPMX8TagAM6ecPt8b7wMmwwOrk624C/7P//93qqr+NaIreBXk0LkkdEEiZ2IY0iC82VCgg7vsHWZ+fmpYDGQQZhyOQw0tIuLY/9R/7n//8///zmfnR/VvpiYADhc//NExOYUMZ6YAN6KlLVX/u+imd1cwtf+TF6aqd/OJiNkTys1M4gFLwMKXDKKRHswZY5ZRkkOVm6OoCnMrdujTsGihIIV5vB8FwNB05Z4/0qW/e0/m/6m3u4GCpYVjPoo//NExOgVIZ6MAN7KlFAUwJzXiz2pf/////odVec1VjwsonFVuZjARzApgwmgiYhLnBLFzWC2mAGGLM2f6VUSe4jMJFoKtdlDsmiq1VToW479IDt7r/Fcfw7V+Piua6q///NExOYTYZaUAN6KlKRhcb/9AoQb1fQqyx/i+wlp3pRjAhBQxWepI6YcgWhMKG2ahd5HoHZkF2LpPnCKA2EvummEPA3XdiSK5beIW+xCKReW509cXjVUGg6IqmAsGC41//NExOsU6SacAM6QcGUcPHhs/////S80izR7UbF7tQZXRo5TSsGLHIWp6ffRugnKw29AQMSPI9BVtamwQAXSsS5KhKFQaJwLSAhSfia0wrYg5B9N8bgGPT0w1h1JFczl//NExOoTiRqoAM6ecJFIeBoLBoUM//+1P/V/////7yyFu71Njs7w3ppuRnsK0xaStGBto0jFspQERuZR2FgEEra2qBTBj2GVVuyPLq0EAAhwoNSMrhtU7LZdG2BrOcmW//NExO4VuZakAM4OlFXKWWcPqYhom///4u9K1lSukZUDDwNKXoBIacULjwS/YoFGfNhnYU5cJqACgOWq+yBe9NazEASFT9Z3Et2a9tpoBclCmVRsVTM8xa0TL6Bzixh5//NExOoV4OakAM5wcJKABQANkSkoIlpImqjA8/R1er///16SSJsCpN00vSn/////5WF63zKATaiLF+dMTtGsONdDsG132r0imadOHcFHn6zwhtvrX3HQgbO9cRWYNnhA//NExOUTKO6kAM5wcCsaZmH2AoFMakxJh6zfU+0Bdy9QLkg7YqCqgzI//i4CHn6FWxZiKprmbMAGteWINbM1/EwMHywB8wTQPkwTDkTR5KDhaoWkrZGOr93vXbFVXWC3//NExOsaoZ6UAN5alB0xOwBDg6p3o+wMTlGCSHuSWRSE9i2yvOGPA61dfn6Dxf9o1Y+a1KVhjZRF3o6wgwaaDi11sExQwlnHHAJDDsUbcSu/Vuc/6G4kPVAoeYeHwMAz//NExNMU0PaYANawcAuodZ4kZdrfK9bEdy2yqPQMnm/g0nq01YpTwAIfT7gZfYIAjP7UnComAR1m3DAoR0N1Tlv6p3/+9HBkSAMrTU/N12lQAMWwJDBDMFcwgSzP//60//NExNIUQSKUANTecKk6nYRDskU///2gMeqD6GHjABU4AuTNamIhAw1SCEOVNVXSXTtJCR7j71NJq7GefOmXmf///9+lPungRlR4aLf+P4z97T2DT6uisb0p1nA5UD/q//NExNQRSZaQANnKlFodmBEFSx9H//fy6yw4FJJGpKVBoxIveisvs0mBMQBHdlyQiF2PZi9qnM5Qt30I+d19uQMrEo3OIxKA4Ss4d8r9muZClHFlgj0ONMGCjwEEiW6f//NExOER2iqIAMnEmOOc7H6vyJnd7/////9qou7GO4U1qd7pJEByTvv4nuaoSD1ErrLKV/2YO2FF6B2wb6v36//zdQmSDlj0GYg1pWf18zc31Bz7WfNWcq3NfLYpRqSx//NExOwVQZqIANnMlId/Ud9a2qFf/7PqmHpqrd00cIkYGkqyCFQPsNEoZFQJjTlwoGlcrH/gfGctP+ijftffMv5RPv0SKOt9AVAnH94sBxUNY9N+xm0wNLi7NFEjzHw5//NExOoWQvKQANqEucyIdUuPHkGJN/////tLDHxtv/+nfrh8ffyrt0MeuQMjcMGHAm49kwqMmQ7QsEVRjr1Fu5JHuc6i3ovzJtEuNWagt48zAK0LQXzdAkh7uqakubyo//NExOQS0ZqcANCWlFlA3uUehWoLlmu/Uee/6Xf//9KCipjdZupgJ2NBMuugIBNPtqbt94EoTyaAdzbWNLqpi36j+sf/MX0yG1M4S6bHAZQ9l1jgRZk0CUEQbsdJ5Cdk//NExOsXKeqYANrWmExbo90upuvWxkGn/wsgNeyav///uSoUM6G32CDGAVb8UhgwsXOMTRoNkTkBRj293Nsl7zOVy7v/Hdc3Xpt+j9w/o8jbxZxs8TiMR29KcjRcmaIp//NExOET2SqgANNacBcstLoiG4QoDK+Lo7sWPLrMoFv6RZv////+laSRyklMACQ8M9sDGl+W4R/cU4tFpub2INWlVuhl9zvL9FWz3T83N8I/t4ujeUDAoARNEoWkiLqr//NExOQVeZKcANtalEV41BorE/iEzodR/9qf//////1Jxv3BEcDgOG3JOGqSZjwBAguhZ07lLubo4rzlSZs0kvpKa3lZhBhg0PoiV5OKhSqGUKK2Z/cjKLKcHnTg8eRL//NExOEVYR6gAN4ecGuAv/1uhVXGVOiZKEFADPgkfM7KhoHgAYGDnE0IzTJVxSVuGrmWymJP7Sv/AV2UO5BMVxlC5U0AcDIXLAZin0LS0dfJPH2k0o3bSQrIhKFZiws///NExN4TARqkAM4ScPXxKZEryz/sNN////v0TM4tf3NuBxDa4XLLF9K/Awjw918iYonGii1q7M32swAuV+dunLcYbldLXct+Y+FYkojgGpNp1rXtWnTN8+93WfqzPWOb//NExOURURagANZScLQNTf/3NR9X////6krUwHiYqoU/qE42sFaktgz5YFgIeAxi4XsycQeNk34nmKyu4MEnq7psu+onTemFAFP07OQiq9sZF7VY/4vk25j1XcWPline//NExPIXMQ6QAN4ScL/KtBUs/dkgqKo////61RRwXk6WuEKkzq5saih+ZJIAQvOLiNYSUkIKwl3ea4qOFw4jX2+GaP9PgyEOTIYxxZVym3WWfkp7rcVVKi50Inf/lSo9//NExOgU6QqMANYYcLbyADLq////44oSHGSwAM1fNGg6RnieKIZtgcNCSIAFrnmAo7gEkdcBRzbwQuCC6s7KFaGWLOBJC5E9J0tekfUkMUOW++9+SEsmf/SpSA4/+YBZ//NExOcUsRKAAN4QcMz////7xjEUqkOygIpIMnpbdR06ZZkC7QArGnJgwxwhG6FIYYpokuxYyRa0WANbLsgEFCyNQ+/VWpOKYOCVNzyyYsv+ur//LtSYHAR/3ngKD4JU//NExOcUKJp4ANaeTGmkSEv09Q9///bF8yVPmEvUrQSFHPlQYNjACZAPrd8QAUbaACExX6aVO22ywr7tdQyV/Bxb5UkfyiFmTwyeNB4aekRaqlTe/9V1CnLY6uu/poOD//NExOkSyJJ0AN6eTM5gtsLBskBKvvvu////31dNmkjkIjJcJKCXHNwQZUzupUoauunnbCSkW4Q5BF9ISsIdddPWGIzWfJGgHSJHKOp5rXav2r80iRRYOg0eqPCUFZ7i//NExPAWQSpoANZGcCPA0s6Wdq/+tQEnl7WhUCM8e4VSVxMVQhVomEIliiKuohKI3LIgiGB4owXZxgeDwGKRyqVS65kMZ+b6ytiIdNlllRCksQ47L4XnY/C///gKw//C//NExOoVKSpoAN4QcJtxvCvCrJpv38KOlt/3f0FVCYgnDcCUrDyJhAO1l2mSwfGED4+UUpuQrJw3LWISpxeE6tYqVUmjyggYNHL/t//+z/2VZZ9YKDBPLFDAwaH1Cwuc//NExOgSoPZUAMPMcKxX/FW4sLsrFRbFm/6lTEFNRTMuMTAwVVVVVVVVVVVVVVVVVVVVVVVVVVVVVVVVVVVVVVVVVVVVVVVVVVVVVVVVVVVVVVVVVVVVVVVVTEFNRTMu//NExPAWkUH0AGJKcTEwMFVVVVVVVVVVVVVVVVVVVVVVVVVVVVVVVVVVVVVVVVVVVVVVVVVVVVVVVVVVVVVVVVVVVVVVVVVVVVVVVVVVVVVVVVVVVVVVVVVVTEFNRTMu//NExOgT4ZWQAGJGlDEwMFVVVVVVVVVVVVVVVVVVVVVVVVVVVVVVVVVVVVVVVVVVVVVVVVVVVVVVVVVVVVVVVVVVVVVVVVVVVVVVVVVVVVVVVVVVVVVVVVVVTEFNRTMu//NExKwAAANIAAAAADEwMFVVVVVVVVVVVVVVVVVVVVVVVVVVVVVVVVVVVVVVVVVVVVVVVVVVVVVVVVVVVVVVVVVVVVVVVVVVVVVVVVVVVVVVVVVVVVVVVVVVTEFNRTMu//NExKwAAANIAAAAADEwMFVVVVVVVVVVVVVVVVVVVVVVVVVVVVVVVVVVVVVVVVVVVVVVVVVVVVVVVVVVVVVVVVVVVVVVVVVVVVVVVVVVVVVVVVVVVVVVVVVVTEFNRTMu//NExKwAAANIAAAAADEwMFVVVVVVVVVVVVVVVVVVVVVVVVVVVVVVVVVVVVVVVVVVVVVVVVVVVVVVVVVVVVVVVVVVVVVVVVVVVVVVVVVVVVVVVVVVVVVVVVVVTEFNRTMu//NExKwAAANIAAAAADEwMFVVVVVVVVVVVVVVVVVVVVVVVVVVVVVVVVVVVVVVVVVVVVVVVVVVVVVVVVVVVVVVVVVVVVVVVVVVVVVVVVVVVVVVVVVVVVVVVVVVTEFNRTMu//NExKwAAANIAAAAADEwMFVVVVVVVVVVVVVVVVVVVVVVVVVVVVVVVVVVVVVVVVVVVVVVVVVVVVVVVVVVVVVVVVVVVVVVVVVVVVVVVVVVVVVVVVVVVVVVVVVVTEFNRTMu//NExKwAAANIAAAAADEwMFVVVVVVVVVVVVVVVVVVVVVVVVVVVVVVVVVVVVVVVVVVVVVVVVVVVVVVVVVVVVVVVVVVVVVVVVVVVVVVVVVVVVVVVVVVVVVVVVVVTEFNRTMu//NExKwAAANIAAAAADEwMFVVVVVVVVVVVVVVVVVVVVVVVVVVVVVVVVVVVVVVVVVVVVVVVVVVVVVVVVVVVVVVVVVVVVVVVVVVVVVVVVVVVVVVVVVVVVVVVVVVTEFNRTMu//NExKwAAANIAAAAADEwMFVVVVVVVVVVVVVVVVVVVVVVVVVVVVVVVVVVVVVVVVVVVVVVVVVVVVVVVVVVVVVVVVVVVVVVVVVVVVVVVVVVVVVVVVVVVVVVVVVVTEFNRTMu//NExKwAAANIAAAAADEwMFVVVVVVVVVVVVVVVVVVVVVVVVVVVVVVVVVVVVVVVVVVVVVVVVVVVVVVVVVVVVVVVVVVVVVVVVVVVVVVVVVVVVVVVVVVVVVVVVVVTEFNRTMu//NExKwAAANIAAAAADEwMFVVVVVVVVVVVVVVVVVVVVVVVVVVVVVVVVVVVVVVVVVVVVVVVVVVVVVVVVVVVVVVVVVVVVVVVVVVVVVVVVVVVVVVVVVVVVVVVVVVTEFNRTMu//NExKwAAANIAAAAADEwMFVVVVVVVVVVVVVVVVVVVVVVVVVVVVVVVVVVVVVVVVVVVVVVVVVVVVVVVVVVVVVVVVVVVVVVVVVVVVVVVVVVVVVVVVVVVVVVVVVVVVVVVVVV//NExKwAAANIAAAAAFVVVVVVVVVVVVVVVVVVVVVVVVVVVVVVVVVVVVVVVVVVVVVVVVVVVVVVVVVVVVVVVVVVVVVVVVVVVVVVVVVVVVVVVVVVVVVVVVVVVVVVVVVVVVVV//NExKwAAANIAAAAAFVVVVVVVVVVVVVVVVVVVVVVVVVVVVVVVVVVVVVVVVVVVVVVVVVVVVVVVVVVVVVVVVVVVVVVVVVVVVVVVVVVVVVVVVVVVVVVVVVVVVVVVVVVVVVV\" type=\"audio/x-wav\" />\n",
              "                    Your browser does not support the audio element.\n",
              "                </audio>\n",
              "              "
            ]
          },
          "metadata": {},
          "execution_count": 34
        }
      ]
    },
    {
      "cell_type": "code",
      "source": [
        "pip install audio"
      ],
      "metadata": {
        "colab": {
          "base_uri": "https://localhost:8080/"
        },
        "id": "51fxDvwzZK7J",
        "outputId": "dc6600b8-9e74-4f15-dd37-cd457835058a"
      },
      "execution_count": 32,
      "outputs": [
        {
          "output_type": "stream",
          "name": "stdout",
          "text": [
            "Looking in indexes: https://pypi.org/simple, https://us-python.pkg.dev/colab-wheels/public/simple/\n",
            "Collecting audio\n",
            "  Downloading audio-1.5.0.tar.gz (2.1 kB)\n",
            "Collecting audio.bitstream\n",
            "  Downloading audio.bitstream-2.5.4.tar.gz (1.2 kB)\n",
            "Collecting audio.coders\n",
            "  Downloading audio.coders-4.0.2.tar.gz (682 kB)\n",
            "\u001b[K     |████████████████████████████████| 682 kB 33.4 MB/s \n",
            "\u001b[33mWARNING: Discarding https://files.pythonhosted.org/packages/4a/8d/d4fe457f6587005e8a4bd4597a12ceb4033e7557dc551b252451c6886967/audio.coders-4.0.2.tar.gz#sha256=7f7692fdc0aaecf2fe0441f31ada44caa32662ef4d8e071d6d131db7291d03fb (from https://pypi.org/simple/audio-coders/). Command errored out with exit status 1: python setup.py egg_info Check the logs for full command output.\u001b[0m\n",
            "\u001b[?25h  Downloading audio.coders-4.0.1.tar.gz (682 kB)\n",
            "\u001b[K     |████████████████████████████████| 682 kB 42.8 MB/s \n",
            "\u001b[33mWARNING: Discarding https://files.pythonhosted.org/packages/9c/ec/68836166f8c2400981fdb44276341cce3508f1d4848a0e5be0773a0ce608/audio.coders-4.0.1.tar.gz#sha256=64ebb8c5dfc9a01499cc1f91c26c2224d2ecbe59dbe517e577f379a46e710753 (from https://pypi.org/simple/audio-coders/). Command errored out with exit status 1: python setup.py egg_info Check the logs for full command output.\u001b[0m\n",
            "\u001b[?25h  Downloading audio.coders-4.0.0.tar.gz (682 kB)\n",
            "\u001b[K     |████████████████████████████████| 682 kB 52.1 MB/s \n",
            "\u001b[33mWARNING: Discarding https://files.pythonhosted.org/packages/c4/28/80fdd645d91c21d70d305326d0c12b6cd357b2203b8471131e498ff4c0cb/audio.coders-4.0.0.tar.gz#sha256=20ac125c04fc4255f120bb8f380d37415a7d3c8b7dfa2c1ba7abb3a62da87c09 (from https://pypi.org/simple/audio-coders/). Command errored out with exit status 1: python setup.py egg_info Check the logs for full command output.\u001b[0m\n",
            "\u001b[?25h  Downloading audio.coders-3.1.0.tar.gz (681 kB)\n",
            "\u001b[K     |████████████████████████████████| 681 kB 56.7 MB/s \n",
            "\u001b[33mWARNING: Discarding https://files.pythonhosted.org/packages/b1/ea/f18b1ca9b73db474b79865edbce3b06146ba343201331b814b2d96577208/audio.coders-3.1.0.tar.gz#sha256=bcf18e49fb7ba5e66edfd71fc33345ba2e7eceb01948a2b4311e90cb164edf06 (from https://pypi.org/simple/audio-coders/). Command errored out with exit status 1: python setup.py egg_info Check the logs for full command output.\u001b[0m\n",
            "\u001b[?25h  Downloading audio.coders-3.0.0.tar.gz (683 kB)\n",
            "\u001b[K     |████████████████████████████████| 683 kB 40.6 MB/s \n",
            "\u001b[33mWARNING: Discarding https://files.pythonhosted.org/packages/fe/4a/7219c378f6d0316c69be5860c49be6f4ff90de22a6d6b9c57485091c5ff6/audio.coders-3.0.0.tar.gz#sha256=9b5ef75d414324477478006e328fdb0c12018b1087e610d311370947560a6694 (from https://pypi.org/simple/audio-coders/). Command errored out with exit status 1: python setup.py egg_info Check the logs for full command output.\u001b[0m\n",
            "\u001b[?25h  Downloading audio.coders-2.0.1.tar.gz (539 kB)\n",
            "\u001b[K     |████████████████████████████████| 539 kB 56.9 MB/s \n",
            "\u001b[33mWARNING: Discarding https://files.pythonhosted.org/packages/91/e9/d1be96f242f928903b3519e76e14d2ef1704ed26aade7af1a0cd4aebadc1/audio.coders-2.0.1.tar.gz#sha256=228406a8306bdfc6af31e5a342e081a7282112e58215bfd175b12e16fcd229f2 (from https://pypi.org/simple/audio-coders/). Command errored out with exit status 1: python setup.py egg_info Check the logs for full command output.\u001b[0m\n",
            "\u001b[?25h  Downloading audio.coders-2.0.0.tar.gz (538 kB)\n",
            "\u001b[K     |████████████████████████████████| 538 kB 56.6 MB/s \n",
            "\u001b[33mWARNING: Discarding https://files.pythonhosted.org/packages/74/a0/33c1105e131344d8ab42b4e322ccd2a37fd1c6dff06f08dcebde89622bf7/audio.coders-2.0.0.tar.gz#sha256=a490abc76b5194768f04bd5df68f704e4b6e43ff2e921d2af59797bb7255d496 (from https://pypi.org/simple/audio-coders/). Command errored out with exit status 1: python setup.py egg_info Check the logs for full command output.\u001b[0m\n",
            "\u001b[?25h  Downloading audio.coders-1.0.1.tar.gz (538 kB)\n",
            "\u001b[K     |████████████████████████████████| 538 kB 49.6 MB/s \n",
            "\u001b[33mWARNING: Discarding https://files.pythonhosted.org/packages/4b/88/ecb2144374fe2f6e15357370a629111a4435960cbc5c9c7f4630c0c35029/audio.coders-1.0.1.tar.gz#sha256=f6afc5fae5645a6004e82d218dc808ab8f0ca8cbc964b27b93cfd157b73234c3 (from https://pypi.org/simple/audio-coders/). Command errored out with exit status 1: python setup.py egg_info Check the logs for full command output.\u001b[0m\n",
            "\u001b[?25h  Downloading audio.coders-1.0.0.tar.gz (538 kB)\n",
            "\u001b[K     |████████████████████████████████| 538 kB 57.1 MB/s \n",
            "\u001b[33mWARNING: Discarding https://files.pythonhosted.org/packages/82/db/b5d6dc16c4538a307a28ea59e23035a63a5d203facd6eb06a37f31a72f20/audio.coders-1.0.0.tar.gz#sha256=a9d1c649ba72cbb007828b3203d5bfac61fba23a6a4c684aa23d10a0da57c184 (from https://pypi.org/simple/audio-coders/). Command errored out with exit status 1: python setup.py egg_info Check the logs for full command output.\u001b[0m\n",
            "\u001b[?25hCollecting audio\n",
            "  Downloading audio-1.4.0.tar.gz (2.0 kB)\n",
            "  Downloading audio-1.3.0.tar.gz (1.1 kB)\n",
            "  Downloading audio-1.2.1.tar.gz (1.0 kB)\n",
            "  Downloading audio-1.1.0.tar.gz (1.0 kB)\n",
            "  Downloading audio-1.tar.gz (1.0 kB)\n",
            "Collecting audio.frames\n",
            "  Downloading audio.frames-2.3.1.tar.gz (535 kB)\n",
            "\u001b[K     |████████████████████████████████| 535 kB 57.6 MB/s \n",
            "\u001b[33mWARNING: Discarding https://files.pythonhosted.org/packages/03/92/6db10c551e830cd67fa0e03570f14d3b05b6fe6499ce0f85372b522f71da/audio.frames-2.3.1.tar.gz#sha256=2a38dc8ccd0484e6e7bc56c2a3bf0fbf4bb3b6e0c03e63706c9ca606b2ff476a (from https://pypi.org/simple/audio-frames/). Command errored out with exit status 1: python setup.py egg_info Check the logs for full command output.\u001b[0m\n",
            "\u001b[?25h  Downloading audio.frames-2.3.0.tar.gz (535 kB)\n",
            "\u001b[K     |████████████████████████████████| 535 kB 57.8 MB/s \n",
            "\u001b[33mWARNING: Discarding https://files.pythonhosted.org/packages/bb/71/a0e148d17ba522f4a5519b385aa57657b8b0ac64bcfc1fc55d49916ddb2a/audio.frames-2.3.0.tar.gz#sha256=af36662403ccb9728f80bf5af24bfe5235b3507e2fa2c01b2c337ab070cbac76 (from https://pypi.org/simple/audio-frames/). Command errored out with exit status 1: python setup.py egg_info Check the logs for full command output.\u001b[0m\n",
            "\u001b[?25h  Downloading audio.frames-2.1.tar.gz (536 kB)\n",
            "\u001b[K     |████████████████████████████████| 536 kB 54.6 MB/s \n",
            "\u001b[33mWARNING: Discarding https://files.pythonhosted.org/packages/59/9c/1b4897a9eedb6230b33d1e6e3f682c7266ef8ecab3f1a92a2c557221e1ae/audio.frames-2.1.tar.gz#sha256=53c49a1ae33fe7d748b93ea5f21965e67d6a3b22393750ecf155892847735981 (from https://pypi.org/simple/audio-frames/). Command errored out with exit status 1: python setup.py egg_info Check the logs for full command output.\u001b[0m\n",
            "\u001b[?25h  Downloading audio.frames-2.0.4.tar.gz (535 kB)\n",
            "\u001b[K     |████████████████████████████████| 535 kB 55.6 MB/s \n",
            "\u001b[33mWARNING: Discarding https://files.pythonhosted.org/packages/e8/0f/6301c5da97966d7d6691dd8fcce842f37e0abbb553a638404c7a148cb5e5/audio.frames-2.0.4.tar.gz#sha256=ef385b8c8fecfb6248fa0b4d50374d44bf1272b9c1afef2f4aaf6e1832e32ad5 (from https://pypi.org/simple/audio-frames/). Command errored out with exit status 1: python setup.py egg_info Check the logs for full command output.\u001b[0m\n",
            "\u001b[?25h  Downloading audio.frames-2.0.3.tar.gz (535 kB)\n",
            "\u001b[K     |████████████████████████████████| 535 kB 55.1 MB/s \n",
            "\u001b[33mWARNING: Discarding https://files.pythonhosted.org/packages/d4/ab/9dceff07fdedb899f7e5da31b223f3b825ff21120f6b8c2a2cead1f405ed/audio.frames-2.0.3.tar.gz#sha256=d854d19374ac1896b8dda2fbd1c466b4a0e76c7dacb58624f3258c6d74771256 (from https://pypi.org/simple/audio-frames/). Command errored out with exit status 1: python setup.py egg_info Check the logs for full command output.\u001b[0m\n",
            "\u001b[?25h  Downloading audio.frames-2.0.2.tar.gz (535 kB)\n",
            "\u001b[K     |████████████████████████████████| 535 kB 66.7 MB/s \n",
            "\u001b[33mWARNING: Discarding https://files.pythonhosted.org/packages/8f/5d/ac071619080393e2bb3d33863173a421a3c960148451f7025522a8d7ed53/audio.frames-2.0.2.tar.gz#sha256=1be4349ab21c1b8bb037b69d015ae30822e3160146c88f2354be525858466298 (from https://pypi.org/simple/audio-frames/). Command errored out with exit status 1: python setup.py egg_info Check the logs for full command output.\u001b[0m\n",
            "\u001b[?25h  Downloading audio.frames-2.0.1.tar.gz (3.3 kB)\n",
            "\u001b[33mWARNING: Discarding https://files.pythonhosted.org/packages/88/fb/bc56203c723f37c1fdc3820ba5dee437a99374b03f7c90b2c96be5c87d24/audio.frames-2.0.1.tar.gz#sha256=a0fd2d3b04f0e5ca951eed245d9b62fcea620def434d8541ff5494f68d9216ca (from https://pypi.org/simple/audio-frames/). Command errored out with exit status 1: python setup.py egg_info Check the logs for full command output.\u001b[0m\n",
            "  Downloading audio.frames-2.0.0.tar.gz (535 kB)\n",
            "\u001b[K     |████████████████████████████████| 535 kB 42.7 MB/s \n",
            "\u001b[33mWARNING: Discarding https://files.pythonhosted.org/packages/fb/55/2b3167d618a91dcb1685fd4179b7b653bed7a9df2c447e919ce9ef5738b2/audio.frames-2.0.0.tar.gz#sha256=762bc19e08d1b1c78c120174da29fa9a6043fd9d9477b2faba46f08e5987cb6a (from https://pypi.org/simple/audio-frames/). Command errored out with exit status 1: python setup.py egg_info Check the logs for full command output.\u001b[0m\n",
            "\u001b[?25h  Downloading audio.frames-1.0.2.tar.gz (773 kB)\n",
            "\u001b[K     |████████████████████████████████| 773 kB 57.5 MB/s \n",
            "\u001b[33mWARNING: Discarding https://files.pythonhosted.org/packages/5e/b3/c17d6878389540c810b3d7e3434d8d6ccf163fcb7f51451fe5ef48a2f2ea/audio.frames-1.0.2.tar.gz#sha256=18059d9d9db26a2d6f998a9be028315a24a58fe16c615313d4b6b7dca1005306 (from https://pypi.org/simple/audio-frames/). Command errored out with exit status 1: python setup.py egg_info Check the logs for full command output.\u001b[0m\n",
            "\u001b[?25h  Downloading audio.frames-1.0.tar.gz (773 kB)\n",
            "\u001b[K     |████████████████████████████████| 773 kB 55.6 MB/s \n",
            "\u001b[33mWARNING: Discarding https://files.pythonhosted.org/packages/bd/ea/7de6dfaa7199ac36e92b3164c1a9bbaae7f8fa3b529a37e01d6a6eddb032/audio.frames-1.0.tar.gz#sha256=6ef2e57d8f331963d9b9faff435373f78bbb8316dd57f7907ee6cc6707777507 (from https://pypi.org/simple/audio-frames/). Command errored out with exit status 1: python setup.py egg_info Check the logs for full command output.\u001b[0m\n",
            "\u001b[?25h  Downloading audio.frames-0.1.tar.gz (536 kB)\n",
            "\u001b[K     |████████████████████████████████| 536 kB 57.5 MB/s \n",
            "\u001b[33mWARNING: Discarding https://files.pythonhosted.org/packages/ef/66/7166967772d068af6f85c63611c3dfd482fdadb3d69ef3d49a1e7c5ab2ab/audio.frames-0.1.tar.gz#sha256=4887830580c591fbbed42105c474d79804a12c016509ab0dad581bef9faf77c2 (from https://pypi.org/simple/audio-frames/). Command errored out with exit status 1: python setup.py egg_info Check the logs for full command output.\u001b[0m\n",
            "\u001b[?25hCollecting audio\n",
            "  Downloading audio-0.0.0.tar.gz (1.0 kB)\n",
            "\u001b[31mERROR: Cannot install audio==0.0.0, audio==1, audio==1.1.0, audio==1.2.1, audio==1.3.0, audio==1.4.0 and audio==1.5.0 because these package versions have conflicting dependencies.\u001b[0m\n",
            "\n",
            "The conflict is caused by:\n",
            "    audio 1.5.0 depends on audio.coders\n",
            "    audio 1.4.0 depends on audio.coders\n",
            "    audio 1.3.0 depends on audio.coders\n",
            "    audio 1.2.1 depends on audio.coders\n",
            "    audio 1.1.0 depends on audio.coding\n",
            "    audio 1 depends on audio.frames\n",
            "    audio 0.0.0 depends on audio.frames\n",
            "\n",
            "To fix this you could try to:\n",
            "1. loosen the range of package versions you've specified\n",
            "2. remove package versions to allow pip attempt to solve the dependency conflict\n",
            "\n",
            "\u001b[31mERROR: ResolutionImpossible: for help visit https://pip.pypa.io/en/latest/user_guide/#fixing-conflicting-dependencies\u001b[0m\n"
          ]
        }
      ]
    }
  ]
}